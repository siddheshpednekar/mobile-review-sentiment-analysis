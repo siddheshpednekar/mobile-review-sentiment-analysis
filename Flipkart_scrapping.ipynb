{
  "cells": [
    {
      "cell_type": "code",
      "execution_count": null,
      "id": "030546f0",
      "metadata": {
        "id": "030546f0"
      },
      "outputs": [],
      "source": [
        "from bs4 import BeautifulSoup\n",
        "import requests"
      ]
    },
    {
      "cell_type": "code",
      "execution_count": null,
      "id": "ac8ad5c5",
      "metadata": {
        "id": "ac8ad5c5"
      },
      "outputs": [],
      "source": [
        "# links = []\n",
        "# for x in range( 2 ,42):\n",
        "#     url = 'https://www.flipkart.com/all/~cs-fab4a6af3d0175dd8d9b53fd77badbd9/pr?sid=tyy%2C4io&marketplace=FLIPKART&fm=personalisedRecommendation%2FintentPivoted&iid=R%3Aip%3Bpt%3Ad%3Buid%3Ae674fef5-a689-11ec-ace1-3bf37bdd6349%3B.cid%3AS_F_N_tyy_4io__tr___NONE_ALL%3Bnid%3Atyy_4io_%3Bet%3AS%3Beid%3Atyy_4io_%3Bmp%3AF%3Bct%3Atr%3B&ppt=hp&ppn=homepage&ssid=v0l54iwie05ga5ts1647587039019&otracker=dynamic_reco_Mobiles%2BTo%2BCheck%2BOut_5_1.dealCard.OMU_INFINITE_cid%3AS_F_N_tyy_4io__tr___NONE_ALL%3Bnid%3Atyy_4io_%3Bet%3AS%3Beid%3Atyy_4io_%3Bmp%3AF%3Bct%3Atr%3B&cid=cid%3AS_F_N_tyy_4io__tr___NONE_ALL%3Bnid%3Atyy_4io_%3Bet%3AS%3Beid%3Atyy_4io_%3Bmp%3AF%3Bct%3Atr%3B&page={}'.format(x)\n",
        "#     res = requests.get(url)\n",
        "#     con = res.text\n",
        "#     soup = BeautifulSoup(con , 'lxml')\n",
        "    \n",
        "#     for y in soup.find_all(class_='_1fQZEK'):\n",
        "#         links.append(y['href'])"
      ]
    },
    {
      "cell_type": "code",
      "execution_count": null,
      "id": "03520e7e",
      "metadata": {
        "id": "03520e7e"
      },
      "outputs": [],
      "source": [
        "# len (links)"
      ]
    },
    {
      "cell_type": "code",
      "execution_count": null,
      "id": "b88333d9",
      "metadata": {
        "id": "b88333d9"
      },
      "outputs": [],
      "source": [
        "import pandas as pd\n",
        "import numpy as np"
      ]
    },
    {
      "cell_type": "code",
      "execution_count": null,
      "id": "39c82a2b",
      "metadata": {
        "id": "39c82a2b"
      },
      "outputs": [],
      "source": [
        "df=pd.read_csv('./links.csv')"
      ]
    },
    {
      "cell_type": "code",
      "source": [
        "df"
      ],
      "metadata": {
        "colab": {
          "base_uri": "https://localhost:8080/",
          "height": 423
        },
        "id": "ORPvdsuYQFTt",
        "outputId": "f6672f49-a9ba-4590-92d0-ec0a6834ab08"
      },
      "id": "ORPvdsuYQFTt",
      "execution_count": null,
      "outputs": [
        {
          "output_type": "execute_result",
          "data": {
            "text/plain": [
              "     Unnamed: 0  index                                              links\n",
              "0             0      0  /realme-9i-prism-black-128-gb/p/itm3e9987219f6...\n",
              "1             1      1  /realme-9i-prism-blue-128-gb/p/itm3e9987219f65...\n",
              "2             2      2  /realme-9i-prism-black-128-gb/p/itm3e9987219f6...\n",
              "3             3      3  /realme-9i-prism-blue-128-gb/p/itm3e9987219f65...\n",
              "4             4      4  /redmi-9i-sport-coral-green-64-gb/p/itmb5e8d81...\n",
              "..          ...    ...                                                ...\n",
              "955         955    955  /mtr-ferrari/p/itmfhg9gh4gsg2cf?pid=MOBFHG799N...\n",
              "956         956    956  /realme-5-pro-crystal-green-64-gb/p/itmfj9twdu...\n",
              "957         957    957  /redmi-note-9-aqua-green-64-gb/p/itme8bb16e02d...\n",
              "958         958    958  /lava-z2-max-stroked-cyan-32-gb/p/itm3a45b9cbb...\n",
              "959         959    959  /apple-iphone-xr-white-128-gb-includes-earpods...\n",
              "\n",
              "[960 rows x 3 columns]"
            ],
            "text/html": [
              "\n",
              "  <div id=\"df-9df76cba-f0b2-4507-b9b0-677d801f292b\">\n",
              "    <div class=\"colab-df-container\">\n",
              "      <div>\n",
              "<style scoped>\n",
              "    .dataframe tbody tr th:only-of-type {\n",
              "        vertical-align: middle;\n",
              "    }\n",
              "\n",
              "    .dataframe tbody tr th {\n",
              "        vertical-align: top;\n",
              "    }\n",
              "\n",
              "    .dataframe thead th {\n",
              "        text-align: right;\n",
              "    }\n",
              "</style>\n",
              "<table border=\"1\" class=\"dataframe\">\n",
              "  <thead>\n",
              "    <tr style=\"text-align: right;\">\n",
              "      <th></th>\n",
              "      <th>Unnamed: 0</th>\n",
              "      <th>index</th>\n",
              "      <th>links</th>\n",
              "    </tr>\n",
              "  </thead>\n",
              "  <tbody>\n",
              "    <tr>\n",
              "      <th>0</th>\n",
              "      <td>0</td>\n",
              "      <td>0</td>\n",
              "      <td>/realme-9i-prism-black-128-gb/p/itm3e9987219f6...</td>\n",
              "    </tr>\n",
              "    <tr>\n",
              "      <th>1</th>\n",
              "      <td>1</td>\n",
              "      <td>1</td>\n",
              "      <td>/realme-9i-prism-blue-128-gb/p/itm3e9987219f65...</td>\n",
              "    </tr>\n",
              "    <tr>\n",
              "      <th>2</th>\n",
              "      <td>2</td>\n",
              "      <td>2</td>\n",
              "      <td>/realme-9i-prism-black-128-gb/p/itm3e9987219f6...</td>\n",
              "    </tr>\n",
              "    <tr>\n",
              "      <th>3</th>\n",
              "      <td>3</td>\n",
              "      <td>3</td>\n",
              "      <td>/realme-9i-prism-blue-128-gb/p/itm3e9987219f65...</td>\n",
              "    </tr>\n",
              "    <tr>\n",
              "      <th>4</th>\n",
              "      <td>4</td>\n",
              "      <td>4</td>\n",
              "      <td>/redmi-9i-sport-coral-green-64-gb/p/itmb5e8d81...</td>\n",
              "    </tr>\n",
              "    <tr>\n",
              "      <th>...</th>\n",
              "      <td>...</td>\n",
              "      <td>...</td>\n",
              "      <td>...</td>\n",
              "    </tr>\n",
              "    <tr>\n",
              "      <th>955</th>\n",
              "      <td>955</td>\n",
              "      <td>955</td>\n",
              "      <td>/mtr-ferrari/p/itmfhg9gh4gsg2cf?pid=MOBFHG799N...</td>\n",
              "    </tr>\n",
              "    <tr>\n",
              "      <th>956</th>\n",
              "      <td>956</td>\n",
              "      <td>956</td>\n",
              "      <td>/realme-5-pro-crystal-green-64-gb/p/itmfj9twdu...</td>\n",
              "    </tr>\n",
              "    <tr>\n",
              "      <th>957</th>\n",
              "      <td>957</td>\n",
              "      <td>957</td>\n",
              "      <td>/redmi-note-9-aqua-green-64-gb/p/itme8bb16e02d...</td>\n",
              "    </tr>\n",
              "    <tr>\n",
              "      <th>958</th>\n",
              "      <td>958</td>\n",
              "      <td>958</td>\n",
              "      <td>/lava-z2-max-stroked-cyan-32-gb/p/itm3a45b9cbb...</td>\n",
              "    </tr>\n",
              "    <tr>\n",
              "      <th>959</th>\n",
              "      <td>959</td>\n",
              "      <td>959</td>\n",
              "      <td>/apple-iphone-xr-white-128-gb-includes-earpods...</td>\n",
              "    </tr>\n",
              "  </tbody>\n",
              "</table>\n",
              "<p>960 rows × 3 columns</p>\n",
              "</div>\n",
              "      <button class=\"colab-df-convert\" onclick=\"convertToInteractive('df-9df76cba-f0b2-4507-b9b0-677d801f292b')\"\n",
              "              title=\"Convert this dataframe to an interactive table.\"\n",
              "              style=\"display:none;\">\n",
              "        \n",
              "  <svg xmlns=\"http://www.w3.org/2000/svg\" height=\"24px\"viewBox=\"0 0 24 24\"\n",
              "       width=\"24px\">\n",
              "    <path d=\"M0 0h24v24H0V0z\" fill=\"none\"/>\n",
              "    <path d=\"M18.56 5.44l.94 2.06.94-2.06 2.06-.94-2.06-.94-.94-2.06-.94 2.06-2.06.94zm-11 1L8.5 8.5l.94-2.06 2.06-.94-2.06-.94L8.5 2.5l-.94 2.06-2.06.94zm10 10l.94 2.06.94-2.06 2.06-.94-2.06-.94-.94-2.06-.94 2.06-2.06.94z\"/><path d=\"M17.41 7.96l-1.37-1.37c-.4-.4-.92-.59-1.43-.59-.52 0-1.04.2-1.43.59L10.3 9.45l-7.72 7.72c-.78.78-.78 2.05 0 2.83L4 21.41c.39.39.9.59 1.41.59.51 0 1.02-.2 1.41-.59l7.78-7.78 2.81-2.81c.8-.78.8-2.07 0-2.86zM5.41 20L4 18.59l7.72-7.72 1.47 1.35L5.41 20z\"/>\n",
              "  </svg>\n",
              "      </button>\n",
              "      \n",
              "  <style>\n",
              "    .colab-df-container {\n",
              "      display:flex;\n",
              "      flex-wrap:wrap;\n",
              "      gap: 12px;\n",
              "    }\n",
              "\n",
              "    .colab-df-convert {\n",
              "      background-color: #E8F0FE;\n",
              "      border: none;\n",
              "      border-radius: 50%;\n",
              "      cursor: pointer;\n",
              "      display: none;\n",
              "      fill: #1967D2;\n",
              "      height: 32px;\n",
              "      padding: 0 0 0 0;\n",
              "      width: 32px;\n",
              "    }\n",
              "\n",
              "    .colab-df-convert:hover {\n",
              "      background-color: #E2EBFA;\n",
              "      box-shadow: 0px 1px 2px rgba(60, 64, 67, 0.3), 0px 1px 3px 1px rgba(60, 64, 67, 0.15);\n",
              "      fill: #174EA6;\n",
              "    }\n",
              "\n",
              "    [theme=dark] .colab-df-convert {\n",
              "      background-color: #3B4455;\n",
              "      fill: #D2E3FC;\n",
              "    }\n",
              "\n",
              "    [theme=dark] .colab-df-convert:hover {\n",
              "      background-color: #434B5C;\n",
              "      box-shadow: 0px 1px 3px 1px rgba(0, 0, 0, 0.15);\n",
              "      filter: drop-shadow(0px 1px 2px rgba(0, 0, 0, 0.3));\n",
              "      fill: #FFFFFF;\n",
              "    }\n",
              "  </style>\n",
              "\n",
              "      <script>\n",
              "        const buttonEl =\n",
              "          document.querySelector('#df-9df76cba-f0b2-4507-b9b0-677d801f292b button.colab-df-convert');\n",
              "        buttonEl.style.display =\n",
              "          google.colab.kernel.accessAllowed ? 'block' : 'none';\n",
              "\n",
              "        async function convertToInteractive(key) {\n",
              "          const element = document.querySelector('#df-9df76cba-f0b2-4507-b9b0-677d801f292b');\n",
              "          const dataTable =\n",
              "            await google.colab.kernel.invokeFunction('convertToInteractive',\n",
              "                                                     [key], {});\n",
              "          if (!dataTable) return;\n",
              "\n",
              "          const docLinkHtml = 'Like what you see? Visit the ' +\n",
              "            '<a target=\"_blank\" href=https://colab.research.google.com/notebooks/data_table.ipynb>data table notebook</a>'\n",
              "            + ' to learn more about interactive tables.';\n",
              "          element.innerHTML = '';\n",
              "          dataTable['output_type'] = 'display_data';\n",
              "          await google.colab.output.renderOutput(dataTable, element);\n",
              "          const docLink = document.createElement('div');\n",
              "          docLink.innerHTML = docLinkHtml;\n",
              "          element.appendChild(docLink);\n",
              "        }\n",
              "      </script>\n",
              "    </div>\n",
              "  </div>\n",
              "  "
            ]
          },
          "metadata": {},
          "execution_count": 9
        }
      ]
    },
    {
      "cell_type": "code",
      "execution_count": null,
      "id": "0905a61a",
      "metadata": {
        "scrolled": true,
        "id": "0905a61a"
      },
      "outputs": [],
      "source": [
        "heading = []\n",
        "review = []\n",
        "name = []\n",
        "for x in df.links:\n",
        "  url = 'https://www.flipkart.com{}'.format(x)\n",
        "  headers = {\n",
        "  'User-Agent': 'Mozilla/5.0 (Macintosh; Intel Mac OS X 10.12; rv:55.0) Gecko/20100101 Firefox/55.0',\n",
        "  }\n",
        "  res = requests.get(url ,headers= headers)\n",
        "  con = res.text\n",
        "  soup = BeautifulSoup(con , 'lxml')\n",
        "  print(url)\n",
        "  \n",
        "  if soup.find_all(class_='B_NuCI'):\n",
        "      for x in soup.find_all(class_='B_NuCI'):\n",
        "          print(x.text)\n",
        "          name.append(x.text)\n",
        "  else:\n",
        "      name.append(np.nan)\n",
        "      \n",
        "  if soup.find_all(class_='_2-N8zT'):\n",
        "      for x in soup.find_all(class_='_2-N8zT')[0]:\n",
        "          heading.append(x.text)\n",
        "  else:\n",
        "      heading.append(np.nan)\n",
        "          \n",
        "  if soup.find_all(class_='t-ZTKy'):\n",
        "      for x in soup.find_all(class_='t-ZTKy')[0]:\n",
        "          review.append(x.text.strip())\n",
        "  else:\n",
        "      review.append(np.nan)"
      ]
    },
    {
      "cell_type": "code",
      "execution_count": null,
      "id": "2fde7cce",
      "metadata": {
        "id": "2fde7cce"
      },
      "outputs": [],
      "source": [
        "pd.DataFrame({'Name' : name ,'Heading' : heading ,'Review' : review})"
      ]
    },
    {
      "cell_type": "code",
      "execution_count": null,
      "id": "b9b6fa3f",
      "metadata": {
        "id": "b9b6fa3f"
      },
      "outputs": [],
      "source": [
        ""
      ]
    }
  ],
  "metadata": {
    "kernelspec": {
      "display_name": "Python 3 (ipykernel)",
      "language": "python",
      "name": "python3"
    },
    "language_info": {
      "codemirror_mode": {
        "name": "ipython",
        "version": 3
      },
      "file_extension": ".py",
      "mimetype": "text/x-python",
      "name": "python",
      "nbconvert_exporter": "python",
      "pygments_lexer": "ipython3",
      "version": "3.8.10"
    },
    "colab": {
      "name": "Flipkart_scrapping.ipynb",
      "provenance": []
    }
  },
  "nbformat": 4,
  "nbformat_minor": 5
}